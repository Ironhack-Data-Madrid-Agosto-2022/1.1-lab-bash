{
 "cells": [
  {
   "cell_type": "code",
   "execution_count": null,
   "metadata": {},
   "outputs": [],
   "source": [
    "# Bash Lab\n",
    "\n",
    "## Intro\n",
    "\n",
    "Vamos a practicar con `bash`, un lenguaje de programación que se ejecuta en la línea de comandos!\n",
    "\n",
    "\n",
    "## Entregable\n",
    "\n",
    "Abre el jupyter notebook en esta carpeta llamado solutions.ipynb y ve escribiendo en él los títulos de los ejercicios en una celda, y en otra el comando que has utilizado para solucionar los ejercicios. \n",
    "\n",
    "## Setup\n",
    "\n",
    "1. Ubícate en la carpeta en la que ejecutando en el terminal. Al ejecutar `ls` \n",
    "```console\n",
    "$ ls\n",
    "```\n",
    "\n",
    "2. Deberías ver: \n",
    "```console\n",
    "README.md lorem solutions.ipynb\n",
    "```\n",
    "3. Intenta hacer todos los ejercicios sin cambiar de directorio. \n",
    "\n",
    "## Ejercicios\n",
    "\n",
    "* Imprime en consola `Hello World`.\n",
    "\n",
    "* Crea un directorio nuevo llamado `new_dir`.\n",
    "\n",
    "* Elimina ese directorio.\n",
    "\n",
    "* Copia el archivo `sed.txt` dentro de la carpeta lorem a la carpeta lorem-copy. TIP: Puede ser necesario crear la carpeta lorem-copy primero. \n",
    "\n",
    "* Copia los otros dos archivos de la carpeta lorem a la carpeta lorem-copy en una sola línea. \n",
    "\n",
    "* Muestra el contenido del archivo `sed.txt` dentro de la carpeta lorem. \n",
    "\n",
    "* Muestra el contenido de los archivos `at.txt` y `lorem.txt` dentro de la carpeta lorem. \n",
    "\n",
    "* Visualiza las primeras 3 líneas del archivo `sed.txt` dentro de la carpeta lorem-copy \n",
    "\n",
    "* Visualiza las ultimas 3 líneas del archivo `sed.txt` dentro de la carpeta lorem-copy \n",
    "\n",
    "* Añade `Homo homini lupus.` al final de archivo `sed.txt` dentro de la carpeta lorem-copy. \n",
    "\n",
    "* Visualiza las últimas 3 líneas del archivo `sed.txt` dentro de la carpeta lorem-copy. Deberías ver ahora `Homo homini lupus.`. \n",
    "\n",
    "* Sustituye todas las apariciones de `et` por `ET` del archivo `at.txt` dentro de la carpeta lorem-copy. Deberás usar `sed`. \n",
    "\n",
    "* Encuentra al usuario activo en el sistema.\n",
    "\n",
    "* Encuentra dónde estás en tu sistema de ficheros.\n",
    "\n",
    "* Lista los archivos que terminan por `.txt` en la carpeta lorem.\n",
    "\n",
    "* Cuenta el número de líneas que tiene el archivo `sed.txt` dentro de la carpeta lorem. \n",
    "\n",
    "* Cuenta el número de **archivos** que empiezan por `lorem` que están en este directorio y en directorios internos.\n",
    "\n",
    "* Encuentra todas las apariciones de `et` en `at.txt` dentro de la carpeta lorem.\n",
    "\n",
    "* Cuenta el número de apariciones del string `et` en `at.txt` dentro de la carpeta lorem. \n",
    "\n",
    "*  Cuenta el número de apariciones del string `et` en todos los archivos del directorio lorem-copy. \n",
    "\n",
    "## Ficheros bash\n",
    "\n",
    "Cualquier comando o comandos de bash se pueden almacenar en un fichero y ejecutar cuando queramos. \n",
    "Obviamente puedes utilizar tu editor preferido. Creamos el fichero: \n",
    "```\n",
    "$ touch list_files.sh\n",
    "```\n",
    "\n",
    "E incluimos el contenido que queramos. En este caso listar ficheros:\n",
    "```bash\n",
    "#!/bin/bash\n",
    "ls\n",
    "```\n",
    "\n",
    "Ejecutamos el script:\n",
    "```\n",
    "$ bash list_files.sh\n",
    "```\n",
    "\n",
    "Y veremos por consola el siguiente output. \n",
    "```console\n",
    "README.md lorem solutions.ipynb\n",
    "```\n",
    "\n",
    "## Bonus\n",
    "\n",
    "* Almacena en una variable `name` tu nombre.\n",
    "\n",
    "* Imprime esa variable.\n",
    "\n",
    "* Crea un directorio nuevo que se llame como el contenido de la variable `name`.\n",
    "\n",
    "* Elimina ese directorio. \n",
    "\n",
    "* Muestra los procesos de forma jerárquica que se están ejecutando en tu ordenador:\n",
    "    1. Usando el comando top o htop\n",
    "    2. Usando el comando ps con argumentos\n",
    "\n",
    "* Muestra información sobre tu procesador por pantalla\n",
    "\n",
    "* Crea 3 alias y haz que estén disponibles cada vez que inicias sesión\n",
    "\n",
    "* Comprime las carpetas lorem y lorem-copy en un archivo llamado lorem-compressed.tar.gz\n",
    "\n",
    "* Descomprime el archivo lorem-compressed.tar.gz en la carpeta lorem-uncompressed\n",
    "\n",
    "* Crea un script bash para imprimir los numeros de 1 a 100."
   ]
  },
  {
   "cell_type": "code",
   "execution_count": null,
   "metadata": {},
   "outputs": [],
   "source": []
  },
  {
   "cell_type": "markdown",
   "metadata": {},
   "source": [
    "*Imprime en consola `Hello World`.*\n"
   ]
  },
  {
   "cell_type": "code",
   "execution_count": null,
   "metadata": {},
   "outputs": [],
   "source": [
    "echo \"hello world\""
   ]
  },
  {
   "cell_type": "markdown",
   "metadata": {},
   "source": [
    "*Crea un directorio nuevo llamado `new_dir`."
   ]
  },
  {
   "cell_type": "code",
   "execution_count": 1,
   "metadata": {},
   "outputs": [],
   "source": [
    "mkdir new_dir"
   ]
  },
  {
   "cell_type": "markdown",
   "metadata": {},
   "source": [
    "*Elimina ese directorio.\n"
   ]
  },
  {
   "cell_type": "code",
   "execution_count": 2,
   "metadata": {
    "scrolled": false
   },
   "outputs": [
    {
     "ename": "SyntaxError",
     "evalue": "invalid syntax (2764890424.py, line 1)",
     "output_type": "error",
     "traceback": [
      "\u001b[0;36m  Input \u001b[0;32mIn [2]\u001b[0;36m\u001b[0m\n\u001b[0;31m    rmv new_dir\u001b[0m\n\u001b[0m        ^\u001b[0m\n\u001b[0;31mSyntaxError\u001b[0m\u001b[0;31m:\u001b[0m invalid syntax\n"
     ]
    }
   ],
   "source": [
    "rm -r new_dir"
   ]
  },
  {
   "cell_type": "markdown",
   "metadata": {},
   "source": [
    "*Copia el archivo `sed.txt` dentro de la carpeta lorem a la carpeta lorem-copy. TIP: Puede ser necesario crear la carpeta lorem-copy primero. \n"
   ]
  },
  {
   "cell_type": "code",
   "execution_count": 3,
   "metadata": {},
   "outputs": [
    {
     "ename": "SyntaxError",
     "evalue": "invalid syntax (395539089.py, line 1)",
     "output_type": "error",
     "traceback": [
      "\u001b[0;36m  Input \u001b[0;32mIn [3]\u001b[0;36m\u001b[0m\n\u001b[0;31m    mkdir lorem-copy\u001b[0m\n\u001b[0m          ^\u001b[0m\n\u001b[0;31mSyntaxError\u001b[0m\u001b[0;31m:\u001b[0m invalid syntax\n"
     ]
    }
   ],
   "source": [
    "\n",
    "# ls\n",
    "# mkdir lorem-copy \n",
    "# cd lorem\n",
    "\n",
    "cp ~/lorem/sed.txt ~/lorem-copy\n",
    "\n"
   ]
  },
  {
   "cell_type": "markdown",
   "metadata": {},
   "source": [
    "* Copia los otros dos archivos de la carpeta lorem a la carpeta lorem-copy en una sola línea. \n"
   ]
  },
  {
   "cell_type": "code",
   "execution_count": 4,
   "metadata": {},
   "outputs": [
    {
     "name": "stdout",
     "output_type": "stream",
     "text": [
      "cp: /Users/jaimemac/lorem-copy is not a directory\r\n"
     ]
    }
   ],
   "source": [
    "cp sed5.txt sed3.txt  ~/lorem-copy \n"
   ]
  },
  {
   "cell_type": "markdown",
   "metadata": {},
   "source": [
    "* Muestra el contenido del archivo `sed.txt` dentro de la carpeta lorem. "
   ]
  },
  {
   "cell_type": "code",
   "execution_count": 6,
   "metadata": {},
   "outputs": [
    {
     "name": "stdout",
     "output_type": "stream",
     "text": [
      "cat: sed.txt: No such file or directory\r\n"
     ]
    }
   ],
   "source": [
    "# cd lorem\n",
    "\n",
    "cat sed.txt"
   ]
  },
  {
   "cell_type": "markdown",
   "metadata": {},
   "source": [
    "* Muestra el contenido de los archivos `at.txt` y `lorem.txt` dentro de la carpeta lorem.\n"
   ]
  },
  {
   "cell_type": "code",
   "execution_count": null,
   "metadata": {},
   "outputs": [],
   "source": [
    "# cat at.txt and lorem.txt\n",
    "\n",
    "cat *"
   ]
  },
  {
   "cell_type": "markdown",
   "metadata": {},
   "source": [
    "* Visualiza las primeras 3 líneas del archivo `sed.txt` dentro de la carpeta lorem-copy \n",
    "\n"
   ]
  },
  {
   "cell_type": "code",
   "execution_count": 7,
   "metadata": {},
   "outputs": [
    {
     "ename": "SyntaxError",
     "evalue": "invalid syntax (3342449359.py, line 3)",
     "output_type": "error",
     "traceback": [
      "\u001b[0;36m  Input \u001b[0;32mIn [7]\u001b[0;36m\u001b[0m\n\u001b[0;31m    cat *\u001b[0m\n\u001b[0m         ^\u001b[0m\n\u001b[0;31mSyntaxError\u001b[0m\u001b[0;31m:\u001b[0m invalid syntax\n"
     ]
    }
   ],
   "source": [
    "head -3  1.1-lab-bash/lorem/sed.txt"
   ]
  },
  {
   "cell_type": "markdown",
   "metadata": {},
   "source": [
    "* Visualiza las ultimas 3 líneas del archivo `sed.txt` dentro de la carpeta lorem-copy \n"
   ]
  },
  {
   "cell_type": "code",
   "execution_count": 8,
   "metadata": {},
   "outputs": [
    {
     "ename": "SyntaxError",
     "evalue": "invalid syntax (1544135156.py, line 1)",
     "output_type": "error",
     "traceback": [
      "\u001b[0;36m  Input \u001b[0;32mIn [8]\u001b[0;36m\u001b[0m\n\u001b[0;31m    tail -3 sed.txt\u001b[0m\n\u001b[0m            ^\u001b[0m\n\u001b[0;31mSyntaxError\u001b[0m\u001b[0;31m:\u001b[0m invalid syntax\n"
     ]
    }
   ],
   "source": [
    "tail -3 1.1-lab-bash/lorem/sed.txt"
   ]
  },
  {
   "cell_type": "markdown",
   "metadata": {},
   "source": [
    "* Añade `Homo homini lupus.` al final de archivo `sed.txt` dentro de la carpeta lorem-copy. \n"
   ]
  },
  {
   "cell_type": "code",
   "execution_count": 10,
   "metadata": {},
   "outputs": [
    {
     "ename": "SyntaxError",
     "evalue": "invalid syntax (1069332405.py, line 1)",
     "output_type": "error",
     "traceback": [
      "\u001b[0;36m  Input \u001b[0;32mIn [10]\u001b[0;36m\u001b[0m\n\u001b[0;31m    echo \" homo homini bla bla\" >> lorem/sed.txt\u001b[0m\n\u001b[0m         ^\u001b[0m\n\u001b[0;31mSyntaxError\u001b[0m\u001b[0;31m:\u001b[0m invalid syntax\n"
     ]
    }
   ],
   "source": [
    "echo \" homo homini bla bla\" >> lorem/sed.txt"
   ]
  },
  {
   "cell_type": "markdown",
   "metadata": {},
   "source": [
    "* Visualiza las últimas 3 líneas del archivo `sed.txt` dentro de la carpeta lorem-copy. Deberías ver ahora `Homo homini lupus.`. \n"
   ]
  },
  {
   "cell_type": "code",
   "execution_count": 11,
   "metadata": {},
   "outputs": [
    {
     "ename": "SyntaxError",
     "evalue": "invalid syntax (3676222338.py, line 1)",
     "output_type": "error",
     "traceback": [
      "\u001b[0;36m  Input \u001b[0;32mIn [11]\u001b[0;36m\u001b[0m\n\u001b[0;31m    tail -3 1.1-lab-bash/lorem/sed.txt\u001b[0m\n\u001b[0m            ^\u001b[0m\n\u001b[0;31mSyntaxError\u001b[0m\u001b[0;31m:\u001b[0m invalid syntax\n"
     ]
    }
   ],
   "source": [
    "tail -f 1.1-lab-bash/lorem/sed.txt | grep homo "
   ]
  },
  {
   "cell_type": "markdown",
   "metadata": {},
   "source": [
    "* Sustituye todas las apariciones de `et` por `ET` del archivo `at.txt` dentro de la carpeta lorem-copy. Deberás usar `sed`. \n"
   ]
  },
  {
   "cell_type": "code",
   "execution_count": 12,
   "metadata": {},
   "outputs": [
    {
     "ename": "SyntaxError",
     "evalue": "invalid syntax (3686449348.py, line 1)",
     "output_type": "error",
     "traceback": [
      "\u001b[0;36m  Input \u001b[0;32mIn [12]\u001b[0;36m\u001b[0m\n\u001b[0;31m    sed 's/et/ET/gi' lorem/at.txt\u001b[0m\n\u001b[0m        ^\u001b[0m\n\u001b[0;31mSyntaxError\u001b[0m\u001b[0;31m:\u001b[0m invalid syntax\n"
     ]
    }
   ],
   "source": [
    "sed 's/et/ET/gi' lorem/at.txt  "
   ]
  },
  {
   "cell_type": "markdown",
   "metadata": {},
   "source": [
    "* Encuentra al usuario activo en el sistema.\n"
   ]
  },
  {
   "cell_type": "code",
   "execution_count": null,
   "metadata": {},
   "outputs": [],
   "source": [
    "#echo $USER\n",
    "\n",
    "dscl . list /Users | grep -v '_'\n",
    "\n",
    "\n"
   ]
  },
  {
   "cell_type": "markdown",
   "metadata": {},
   "source": [
    "* Encuentra dónde estás en tu sistema de ficheros.\n"
   ]
  },
  {
   "cell_type": "code",
   "execution_count": 13,
   "metadata": {},
   "outputs": [
    {
     "data": {
      "text/plain": [
       "'/Users/jaimemac/Documents/Github Access/Apuntes-de-clase/solucioneslabday1/1.1-lab-bash'"
      ]
     },
     "execution_count": 13,
     "metadata": {},
     "output_type": "execute_result"
    }
   ],
   "source": [
    "pwd"
   ]
  },
  {
   "cell_type": "markdown",
   "metadata": {},
   "source": [
    "* Lista los archivos que terminan por `.txt` en la carpeta lorem.\n"
   ]
  },
  {
   "cell_type": "code",
   "execution_count": null,
   "metadata": {},
   "outputs": [],
   "source": [
    "ls *.txt"
   ]
  },
  {
   "cell_type": "markdown",
   "metadata": {},
   "source": [
    "* Cuenta el número de líneas que tiene el archivo `sed.txt` dentro de la carpeta lorem.\n"
   ]
  },
  {
   "cell_type": "code",
   "execution_count": null,
   "metadata": {},
   "outputs": [],
   "source": [
    "wc -l 1.1-lab-bash/lorem/sed.txt"
   ]
  },
  {
   "cell_type": "markdown",
   "metadata": {},
   "source": [
    "* Cuenta el número de **archivos** que empiezan por `lorem` que están en este directorio y en directorios internos.\n"
   ]
  },
  {
   "cell_type": "code",
   "execution_count": 15,
   "metadata": {},
   "outputs": [
    {
     "ename": "SyntaxError",
     "evalue": "invalid syntax (2407070906.py, line 1)",
     "output_type": "error",
     "traceback": [
      "\u001b[0;36m  Input \u001b[0;32mIn [15]\u001b[0;36m\u001b[0m\n\u001b[0;31m    find . -name \\*lorem* -type f | wc -l\u001b[0m\n\u001b[0m           ^\u001b[0m\n\u001b[0;31mSyntaxError\u001b[0m\u001b[0;31m:\u001b[0m invalid syntax\n"
     ]
    }
   ],
   "source": [
    "find . -name \\*lorem* -type f | wc -l\n"
   ]
  },
  {
   "cell_type": "markdown",
   "metadata": {},
   "source": [
    "* Encuentra todas las apariciones de `et` en `at.txt` dentro de la carpeta lorem.\n"
   ]
  },
  {
   "cell_type": "code",
   "execution_count": 16,
   "metadata": {},
   "outputs": [
    {
     "ename": "SyntaxError",
     "evalue": "invalid syntax (3709215241.py, line 1)",
     "output_type": "error",
     "traceback": [
      "\u001b[0;36m  Input \u001b[0;32mIn [16]\u001b[0;36m\u001b[0m\n\u001b[0;31m    grep \"et\" lorem/*at.txt | wc -l\u001b[0m\n\u001b[0m         ^\u001b[0m\n\u001b[0;31mSyntaxError\u001b[0m\u001b[0;31m:\u001b[0m invalid syntax\n"
     ]
    }
   ],
   "source": [
    "find \"et\" lorem/*at.txt | wc -l"
   ]
  },
  {
   "cell_type": "markdown",
   "metadata": {},
   "source": [
    "* Cuenta el número de apariciones del string `et` en `at.txt` dentro de la carpeta lorem. \n"
   ]
  },
  {
   "cell_type": "code",
   "execution_count": null,
   "metadata": {},
   "outputs": [],
   "source": [
    " grep \"et\" lorem-copy/*at.txt | wc -l \n",
    "    \n",
    "    # grep -c et lorem-copy/at.txt\n"
   ]
  },
  {
   "cell_type": "markdown",
   "metadata": {},
   "source": [
    "*  Cuenta el número de apariciones del string `et` en todos los archivos del directorio lorem-copy. \n"
   ]
  },
  {
   "cell_type": "code",
   "execution_count": null,
   "metadata": {},
   "outputs": [],
   "source": [
    " grep \"et\" lorem-copy/ | wc -l\n"
   ]
  },
  {
   "cell_type": "markdown",
   "metadata": {},
   "source": [
    "## Bonus\n",
    "\n",
    "* Almacena en una variable `name` tu nombre.\n",
    "\n",
    "name=jaime\n",
    "\n",
    "* Imprime esa variable.\n",
    "\n",
    "#echo $name\n",
    "\n",
    "* Crea un directorio nuevo que se llame como el contenido de la variable `name`.\n",
    "\n",
    "mkdir jaime\n",
    "\n",
    "* Elimina ese directorio. \n",
    "\n",
    "rmdir jaime\n",
    "\n",
    "* Muestra los procesos de forma jerárquica que se están ejecutando en tu ordenador:\n",
    "    1. Usando el comando top o htop\n",
    " \n",
    "mil procesos\n",
    "\n",
    "    2. Usando el comando ps con argumentos\n",
    "\n",
    "* Muestra información sobre tu procesador por pantalla\n",
    "\n",
    "* Crea 3 alias y haz que estén disponibles cada vez que inicias sesión\n",
    "\n",
    "\n",
    "\n",
    "\n",
    "alias ialias=' nano .zshrc'\n",
    "alias ll='ls -la'\n",
    "alias ll='ls -la'\n",
    "alias duh='du -sh'\n",
    "\n",
    "\n",
    "* Comprime las carpetas lorem y lorem-copy en un archivo llamado lorem-compressed.tar.gz\n",
    "\n",
    "\n",
    "\n",
    " tar -czf jaime.tgz jaimezziper\n",
    "\n",
    "#he creado carpeta jaime y creado un archivo txt para zippearlo con esa formula, por no tocar mucho el archivo donde guardo los ejercicios\n",
    "\n",
    "* Descomprime el archivo lorem-compressed.tar.gz en la carpeta lorem-uncompressed\n",
    "\n",
    "\n",
    " tar -xvf jaimezziper.tar -C lorem/lorem-copy\n",
    "\n",
    "* Crea un script bash para imprimir los numeros de 1 a 100.\n",
    "\n"
   ]
  },
  {
   "cell_type": "code",
   "execution_count": null,
   "metadata": {},
   "outputs": [],
   "source": []
  }
 ],
 "metadata": {
  "kernelspec": {
   "display_name": "Python 3 (ipykernel)",
   "language": "python",
   "name": "python3"
  },
  "language_info": {
   "codemirror_mode": {
    "name": "ipython",
    "version": 3
   },
   "file_extension": ".py",
   "mimetype": "text/x-python",
   "name": "python",
   "nbconvert_exporter": "python",
   "pygments_lexer": "ipython3",
   "version": "3.9.0"
  },
  "vscode": {
   "interpreter": {
    "hash": "aee8b7b246df8f9039afb4144a1f6fd8d2ca17a180786b69acc140d282b71a49"
   }
  }
 },
 "nbformat": 4,
 "nbformat_minor": 2
}
