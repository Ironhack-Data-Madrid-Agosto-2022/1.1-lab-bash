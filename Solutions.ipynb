{
 "cells": [
  {
   "cell_type": "markdown",
   "id": "86610f7a",
   "metadata": {},
   "source": [
    "# Imprime en consola Hello World."
   ]
  },
  {
   "cell_type": "markdown",
   "id": "ca57d7f6",
   "metadata": {},
   "source": [
    "$ echo 'Hello World'"
   ]
  },
  {
   "cell_type": "markdown",
   "id": "f4049fd3",
   "metadata": {},
   "source": [
    "# Crea un directorio nuevo llamado new_dir."
   ]
  },
  {
   "cell_type": "markdown",
   "id": "f5763671",
   "metadata": {},
   "source": [
    "$ mkdir new_dir"
   ]
  },
  {
   "cell_type": "markdown",
   "id": "d7d5ca36",
   "metadata": {},
   "source": [
    "# Elimina ese directorio."
   ]
  },
  {
   "cell_type": "markdown",
   "id": "5b3ee39b",
   "metadata": {},
   "source": [
    "$ rmdir new_dir"
   ]
  },
  {
   "cell_type": "markdown",
   "id": "2014defb",
   "metadata": {},
   "source": [
    "# Copia el archivo sed.txt dentro de la carpeta lorem a la carpeta lorem-copy. TIP: Puede ser necesario crear la carpeta lorem-copy primero.\n"
   ]
  },
  {
   "cell_type": "markdown",
   "id": "aef431c4",
   "metadata": {},
   "source": [
    "$ mkdir lorem-copy"
   ]
  },
  {
   "cell_type": "markdown",
   "id": "3bc6dabc",
   "metadata": {},
   "source": [
    "$ cp sed.txt ../lorem-copy\n"
   ]
  },
  {
   "cell_type": "markdown",
   "id": "2108423f",
   "metadata": {},
   "source": [
    "# Copia los otros dos archivos de la carpeta lorem a la carpeta lorem-copy en una sola línea."
   ]
  },
  {
   "cell_type": "markdown",
   "id": "8bfebafb",
   "metadata": {},
   "source": [
    "$ cp /* ../lorem-copy"
   ]
  },
  {
   "cell_type": "markdown",
   "id": "a6092dcf",
   "metadata": {},
   "source": [
    "# Muestra el contenido del archivo sed.txt dentro de la carpeta lorem."
   ]
  },
  {
   "cell_type": "markdown",
   "id": "471696d5",
   "metadata": {},
   "source": [
    "$ cd lorem"
   ]
  },
  {
   "cell_type": "markdown",
   "id": "48846545",
   "metadata": {},
   "source": [
    "$ cat lorem.txt"
   ]
  },
  {
   "cell_type": "markdown",
   "id": "a1accd2b",
   "metadata": {},
   "source": [
    "# Muestra el contenido de los archivos at.txt y lorem.txt dentro de la carpeta lorem."
   ]
  },
  {
   "cell_type": "markdown",
   "id": "39a2f28e",
   "metadata": {},
   "source": [
    "cat at.txt and cat lorem.txt"
   ]
  },
  {
   "cell_type": "markdown",
   "id": "f937dd74",
   "metadata": {},
   "source": [
    "# Visualiza las primeras 3 líneas del archivo sed.txt dentro de la carpeta lorem-copy"
   ]
  },
  {
   "cell_type": "markdown",
   "id": "537cf77d",
   "metadata": {},
   "source": [
    "head -n 3 sed.txt"
   ]
  },
  {
   "cell_type": "markdown",
   "id": "b8e48567",
   "metadata": {},
   "source": [
    "# Visualiza las ultimas 3 líneas del archivo sed.txt dentro de la carpeta lorem-copy"
   ]
  },
  {
   "cell_type": "markdown",
   "id": "5882c0c4",
   "metadata": {},
   "source": [
    "tail -n 3 sed.txt"
   ]
  },
  {
   "cell_type": "markdown",
   "id": "48d91c54",
   "metadata": {},
   "source": [
    "# Añade Homo homini lupus. al final de archivo sed.txt dentro de la carpeta lorem-copy."
   ]
  },
  {
   "cell_type": "markdown",
   "id": "3015ad51",
   "metadata": {},
   "source": [
    "echo \" Homo homini lupus.\" >> sed.txt"
   ]
  },
  {
   "cell_type": "markdown",
   "id": "671f5b8c",
   "metadata": {},
   "source": [
    "# Visualiza las últimas 3 líneas del archivo sed.txt dentro de la carpeta lorem-copy. Deberías ver ahora Homo homini lupus.."
   ]
  },
  {
   "cell_type": "markdown",
   "id": "e0e31639",
   "metadata": {},
   "source": [
    "tail -n 3 sed.txt"
   ]
  },
  {
   "cell_type": "markdown",
   "id": "31984701",
   "metadata": {},
   "source": [
    "# Sustituye todas las apariciones de et por ET del archivo at.txt dentro de la carpeta lorem-copy. Deberás usar sed."
   ]
  },
  {
   "cell_type": "markdown",
   "id": "5ddf7c1d",
   "metadata": {},
   "source": [
    "$ sed 's/et/ET/g' at.txt"
   ]
  },
  {
   "cell_type": "markdown",
   "id": "19d1f550",
   "metadata": {},
   "source": [
    "# Encuentra al usuario activo en el sistema."
   ]
  },
  {
   "cell_type": "markdown",
   "id": "4bf3868b",
   "metadata": {},
   "source": [
    "$ users"
   ]
  },
  {
   "cell_type": "markdown",
   "id": "fb4e473f",
   "metadata": {},
   "source": [
    "# Encuentra dónde estás en tu sistema de ficheros."
   ]
  },
  {
   "cell_type": "markdown",
   "id": "64c2873f",
   "metadata": {},
   "source": [
    "$ pwd"
   ]
  },
  {
   "cell_type": "markdown",
   "id": "71d4f0ec",
   "metadata": {},
   "source": [
    "# Lista los archivos que terminan por .txt en la carpeta lorem."
   ]
  },
  {
   "cell_type": "markdown",
   "id": "3f6a9365",
   "metadata": {},
   "source": [
    "$ ls *.txt"
   ]
  },
  {
   "cell_type": "markdown",
   "id": "a6a8b2d2",
   "metadata": {},
   "source": [
    "# Cuenta el número de líneas que tiene el archivo sed.txt dentro de la carpeta lorem."
   ]
  },
  {
   "cell_type": "markdown",
   "id": "e1de9088",
   "metadata": {},
   "source": [
    "$ wc -l sed.txt"
   ]
  },
  {
   "cell_type": "markdown",
   "id": "4c3a23bb",
   "metadata": {},
   "source": [
    "# Cuenta el número de archivos que empiezan por lorem que están en este directorio y en directorios internos."
   ]
  },
  {
   "cell_type": "markdown",
   "id": "6a83b9e2",
   "metadata": {},
   "source": [
    "$ find . -name \"lorem*\" | wc -l "
   ]
  },
  {
   "cell_type": "markdown",
   "id": "6d867ae7",
   "metadata": {},
   "source": [
    "# Encuentra todas las apariciones de et en at.txt dentro de la carpeta lorem."
   ]
  },
  {
   "cell_type": "markdown",
   "id": "4278c682",
   "metadata": {},
   "source": [
    "$ grep -o -i -w \"et\" at.txt"
   ]
  },
  {
   "cell_type": "markdown",
   "id": "bdb518cd",
   "metadata": {},
   "source": [
    "# Cuenta el número de apariciones del string et en at.txt dentro de la carpeta lorem."
   ]
  },
  {
   "cell_type": "markdown",
   "id": "f5d1a6cd",
   "metadata": {},
   "source": [
    "$ grep -o -i -w \"et\" at.txt | wc -l"
   ]
  },
  {
   "cell_type": "markdown",
   "id": "8c8b3162",
   "metadata": {},
   "source": [
    "# Cuenta el número de apariciones del string et en todos los archivos del directorio lorem-copy."
   ]
  },
  {
   "cell_type": "markdown",
   "id": "e0278847",
   "metadata": {},
   "source": [
    "$ cd .."
   ]
  },
  {
   "cell_type": "markdown",
   "id": "8e4c5217",
   "metadata": {},
   "source": [
    "$ grep -o -i -r -w  \"et\" lorem-copy | wc -l"
   ]
  },
  {
   "cell_type": "markdown",
   "id": "f06b0ff3",
   "metadata": {},
   "source": [
    "# -----------------------------------------------------------------------------------------"
   ]
  },
  {
   "cell_type": "markdown",
   "id": "ae8d3c56",
   "metadata": {},
   "source": [
    "# Almacena en una variable name tu nombre."
   ]
  },
  {
   "cell_type": "markdown",
   "id": "a97d0658",
   "metadata": {},
   "source": [
    "name=Javi"
   ]
  },
  {
   "cell_type": "markdown",
   "id": "a095aa24",
   "metadata": {},
   "source": [
    "# Imprime esa variable."
   ]
  },
  {
   "cell_type": "markdown",
   "id": "230ffdf8",
   "metadata": {},
   "source": [
    "echo $name"
   ]
  },
  {
   "cell_type": "markdown",
   "id": "aba1efe7",
   "metadata": {},
   "source": [
    "# Crea un directorio nuevo que se llame como el contenido de la variable name."
   ]
  },
  {
   "cell_type": "markdown",
   "id": "2acd73b8",
   "metadata": {},
   "source": [
    "mkdir $name"
   ]
  },
  {
   "cell_type": "markdown",
   "id": "8277232c",
   "metadata": {},
   "source": [
    "# Elimina ese directorio."
   ]
  },
  {
   "cell_type": "markdown",
   "id": "5a84a94f",
   "metadata": {},
   "source": [
    "rmdir $name"
   ]
  },
  {
   "cell_type": "markdown",
   "id": "91c98a56",
   "metadata": {},
   "source": [
    "# Muestra los procesos de forma jerárquica que se están ejecutando en tu ordenador:"
   ]
  },
  {
   "cell_type": "markdown",
   "id": "b6f8a189",
   "metadata": {},
   "source": [
    "## i. Usando el comando top o htop"
   ]
  },
  {
   "cell_type": "markdown",
   "id": "47872c0f",
   "metadata": {},
   "source": [
    "$ top"
   ]
  },
  {
   "cell_type": "markdown",
   "id": "f7a4eaf2",
   "metadata": {},
   "source": [
    "## ii. Usando el comando ps con argumentos"
   ]
  },
  {
   "cell_type": "markdown",
   "id": "19f2f83b",
   "metadata": {},
   "source": [
    "$ ps -e"
   ]
  },
  {
   "cell_type": "markdown",
   "id": "2ce11dfb",
   "metadata": {},
   "source": [
    "# Muestra información sobre tu procesador por pantalla"
   ]
  },
  {
   "cell_type": "markdown",
   "id": "fea75a91",
   "metadata": {},
   "source": [
    "uname -a"
   ]
  },
  {
   "cell_type": "markdown",
   "id": "e0ca1fa0",
   "metadata": {},
   "source": [
    "# Crea 3 alias y haz que estén disponibles cada vez que inicias sesión"
   ]
  },
  {
   "cell_type": "markdown",
   "id": "86ce61d5",
   "metadata": {},
   "source": [
    "alias open=\"cd\""
   ]
  },
  {
   "cell_type": "markdown",
   "id": "2e535b57",
   "metadata": {},
   "source": [
    "alias imprime=\"echo\""
   ]
  },
  {
   "cell_type": "markdown",
   "id": "c18e86cb",
   "metadata": {},
   "source": [
    "alias atras=\"cd ..\""
   ]
  },
  {
   "cell_type": "markdown",
   "id": "94a63055",
   "metadata": {},
   "source": [
    "# Comprime las carpetas lorem y lorem-copy en un archivo llamado lorem-compressed.tar.gz"
   ]
  },
  {
   "cell_type": "markdown",
   "id": "699dca87",
   "metadata": {},
   "source": [
    "zip -r lorem-compressed.tar.gz lorem/ lorem-copy/"
   ]
  },
  {
   "cell_type": "markdown",
   "id": "7901fff5",
   "metadata": {},
   "source": [
    "# Descomprime el archivo lorem-compressed.tar.gz en la carpeta lorem-uncompressed"
   ]
  },
  {
   "cell_type": "markdown",
   "id": "cd77b770",
   "metadata": {},
   "source": [
    "unzip lorem-compressed.tar.gz -d lorem-uncompressed"
   ]
  },
  {
   "cell_type": "markdown",
   "id": "bd248312",
   "metadata": {},
   "source": [
    "# Crea un script bash para imprimir los numeros de 1 a 100."
   ]
  },
  {
   "cell_type": "markdown",
   "id": "9ea68b6c",
   "metadata": {},
   "source": [
    "touch imprimir1_100.sh"
   ]
  },
  {
   "cell_type": "markdown",
   "id": "6253cbd9",
   "metadata": {},
   "source": [
    "nano imprimir1_100.sh"
   ]
  },
  {
   "cell_type": "markdown",
   "id": "5c1634b4",
   "metadata": {},
   "source": [
    "EDITAMOS EL SCRIPT AÑADIENDO LA FUNCION QUE QUEREMOS"
   ]
  },
  {
   "cell_type": "markdown",
   "id": "dc62c7df",
   "metadata": {},
   "source": [
    "#!/bin/bash"
   ]
  },
  {
   "cell_type": "markdown",
   "id": "4fd3ca49",
   "metadata": {},
   "source": [
    "for i in {1..100}; do echo $i; done"
   ]
  },
  {
   "cell_type": "markdown",
   "id": "51136667",
   "metadata": {},
   "source": [
    "VOLVEMOS AL TERMINAL Y EJECUTAMOS"
   ]
  },
  {
   "cell_type": "markdown",
   "id": "13059bc8",
   "metadata": {},
   "source": [
    "bash imprimir1_100.sh"
   ]
  },
  {
   "cell_type": "code",
   "execution_count": null,
   "id": "9b4e90d5",
   "metadata": {},
   "outputs": [],
   "source": []
  }
 ],
 "metadata": {
  "kernelspec": {
   "display_name": "Python 3 (ipykernel)",
   "language": "python",
   "name": "python3"
  },
  "language_info": {
   "codemirror_mode": {
    "name": "ipython",
    "version": 3
   },
   "file_extension": ".py",
   "mimetype": "text/x-python",
   "name": "python",
   "nbconvert_exporter": "python",
   "pygments_lexer": "ipython3",
   "version": "3.9.0"
  }
 },
 "nbformat": 4,
 "nbformat_minor": 5
}
