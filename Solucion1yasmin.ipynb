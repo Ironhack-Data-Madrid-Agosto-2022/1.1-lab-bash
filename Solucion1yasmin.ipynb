{
 "cells": [
  {
   "cell_type": "markdown",
   "id": "a4ec5a8d",
   "metadata": {},
   "source": [
    "# Bash Lab\n",
    "\n",
    "## Intro\n",
    "\n",
    "Vamos a practicar con `bash`, un lenguaje de programación que se ejecuta en la línea de comandos!\n",
    "\n",
    "\n",
    "## Entregable\n",
    "\n",
    "Abre el  jupyter notebook en esta carpeta llamado solutions.ipynb y ve escribiendo en él los títulos de los ejercicios en una celda, y en otra el comando que has utilizado para solucionar los ejercicios. \n",
    "\n",
    "## Setup\n",
    "\n",
    "1. Ubícate en la carpeta en la que ejecutando en el terminal. Al ejecutar `ls` \n",
    "```console\n",
    "$ ls\n",
    "```\n",
    "\n",
    "2. Deberías ver: \n",
    "```console\n",
    "README.md lorem solutions.ipynb\n",
    "```\n",
    "3. Intenta hacer todos los ejercicios sin cambiar de directorio. \n",
    "\n",
    "## Ejercicios\n",
    "\n",
    "* Imprime en consola `Hello World`.\n",
    "\n",
    "* Crea un directorio nuevo llamado `new_dir`.\n",
    "\n",
    "* Elimina ese directorio.\n",
    "\n",
    "* Copia el archivo `sed.txt` dentro de la carpeta lorem a la carpeta lorem-copy. TIP: Puede ser necesario crear la carpeta lorem-copy primero. \n",
    "\n",
    "* Copia los otros dos archivos de la carpeta lorem a la carpeta lorem-copy en una sola línea. \n",
    "\n",
    "* Muestra el contenido del archivo `sed.txt` dentro de la carpeta lorem. \n",
    "\n",
    "* Muestra el contenido de los archivos `at.txt` y `lorem.txt` dentro de la carpeta lorem. \n",
    "\n",
    "* Visualiza las primeras 3 líneas del archivo `sed.txt` dentro de la carpeta lorem-copy \n",
    "\n",
    "* Visualiza las ultimas 3 líneas del archivo `sed.txt` dentro de la carpeta lorem-copy \n",
    "\n",
    "* Añade `Homo homini lupus.` al final de archivo `sed.txt` dentro de la carpeta lorem-copy. \n",
    "\n",
    "* Visualiza las últimas 3 líneas del archivo `sed.txt` dentro de la carpeta lorem-copy. Deberías ver ahora `Homo homini lupus.`. \n",
    "\n",
    "* Sustituye todas las apariciones de `et` por `ET` del archivo `at.txt` dentro de la carpeta lorem-copy. Deberás usar `sed`. \n",
    "\n",
    "* Encuentra al usuario activo en el sistema.\n",
    "\n",
    "* Encuentra dónde estás en tu sistema de ficheros.\n",
    "\n",
    "* Lista los archivos que terminan por `.txt` en la carpeta lorem.\n",
    "\n",
    "* Cuenta el número de líneas que tiene el archivo `sed.txt` dentro de la carpeta lorem. \n",
    "\n",
    "* Cuenta el número de **archivos** que empiezan por `lorem` que están en este directorio y en directorios internos.\n",
    "\n",
    "* Encuentra todas las apariciones de `et` en `at.txt` dentro de la carpeta lorem.\n",
    "\n",
    "* Cuenta el número de apariciones del string `et` en `at.txt` dentro de la carpeta lorem. \n",
    "\n",
    "*  Cuenta el número de apariciones del string `et` en todos los archivos del directorio lorem-copy. \n",
    "\n",
    "## Ficheros bash\n",
    "\n",
    "Cualquier comando o comandos de bash se pueden almacenar en un fichero y ejecutar cuando queramos. \n",
    "Obviamente puedes utilizar tu editor preferido. Creamos el fichero: \n",
    "```\n",
    "$ touch list_files.sh\n",
    "```\n",
    "\n",
    "E incluimos el contenido que queramos. En este caso listar ficheros:\n",
    "```bash\n",
    "#!/bin/bash\n",
    "ls\n",
    "```\n",
    "\n",
    "Ejecutamos el script:\n",
    "```\n",
    "$ bash list_files.sh\n",
    "```\n",
    "\n",
    "Y veremos por consola el siguiente output. \n",
    "```console\n",
    "README.md lorem solutions.ipynb\n",
    "```\n",
    "\n",
    "## Bonus\n",
    "\n",
    "* Almacena en una variable `name` tu nombre.\n",
    "\n",
    "* Imprime esa variable.\n",
    "\n",
    "* Crea un directorio nuevo que se llame como el contenido de la variable `name`.\n",
    "\n",
    "* Elimina ese directorio. \n",
    "\n",
    "* Muestra los procesos de forma jerárquica que se están ejecutando en tu ordenador:\n",
    "    1. Usando el comando top o htop\n",
    "    2. Usando el comando ps con argumentos\n",
    "\n",
    "* Muestra información sobre tu procesador por pantalla\n",
    "\n",
    "* Crea 3 alias y haz que estén disponibles cada vez que inicias sesión\n",
    "\n",
    "* Comprime las carpetas lorem y lorem-copy en un archivo llamado lorem-compressed.tar.gz\n",
    "\n",
    "* Descomprime el archivo lorem-compressed.tar.gz en la carpeta lorem-uncompressed\n",
    "\n",
    "* Crea un script bash para imprimir los numeros de 1 a 100."
   ]
  },
  {
   "cell_type": "markdown",
   "id": "bcf6315f",
   "metadata": {},
   "source": [
    "*\tImprime en consola Hello World.\n",
    "\n",
    "echo “hello world”"
   ]
  },
  {
   "cell_type": "markdown",
   "id": "60dba940",
   "metadata": {},
   "source": [
    "*\tCrea un directorio nuevo llamado new_dir.\n",
    "\n",
    "mkdir new_dir"
   ]
  },
  {
   "cell_type": "markdown",
   "id": "cea59161",
   "metadata": {},
   "source": [
    "*\tElimina ese directorio.\n",
    "\n",
    "rm -r new_dir"
   ]
  },
  {
   "cell_type": "markdown",
   "id": "4ecefbce",
   "metadata": {},
   "source": [
    "* Copia el archivo `sed.txt` dentro de la carpeta lorem a la carpeta lorem-copy. TIP: Puede ser necesario crear la carpeta lorem-copy primero.\n",
    "\n",
    "cd lorem\n",
    "mkdir lorem-copy\n",
    "cp sed.txt Users/yasmin/desktop/IRONHACK/1.1-lab-bash/lorem/lorem-copy"
   ]
  },
  {
   "cell_type": "markdown",
   "id": "f5ec2611",
   "metadata": {},
   "source": [
    "* Copia los otros dos archivos de la carpeta lorem a la carpeta lorem-copy en una sola línea.\n",
    "\n",
    "cp at.txt lorem.txt Users/yasmin/desktop/IRONHACK/1.1-lab-bash/lorem/lorem-copy"
   ]
  },
  {
   "cell_type": "markdown",
   "id": "050834a1",
   "metadata": {},
   "source": [
    "* Muestra el contenido del archivo `sed.txt` dentro de la carpeta lorem.\n",
    "\n",
    "cat sed.txt"
   ]
  },
  {
   "cell_type": "markdown",
   "id": "80831067",
   "metadata": {},
   "source": [
    "* Muestra el contenido de los archivos `at.txt` y `lorem.txt` dentro de la carpeta lorem.\n",
    "\n",
    "cat at.txt lorem.txt"
   ]
  },
  {
   "cell_type": "markdown",
   "id": "a111625e",
   "metadata": {},
   "source": [
    "* Visualiza las primeras 3 líneas del archivo `sed.txt` dentro de la carpeta lorem-copy \n",
    "\n",
    "head -3 sed.txt"
   ]
  },
  {
   "cell_type": "markdown",
   "id": "d6afc92f",
   "metadata": {},
   "source": [
    "* Visualiza las ultimas 3 líneas del archivo `sed.txt` dentro de la carpeta lorem-copy\n",
    "\n",
    "tail -3 sed.txt"
   ]
  },
  {
   "cell_type": "markdown",
   "id": "46477d6c",
   "metadata": {},
   "source": [
    "* Añade `Homo homini lupus.` al final de archivo `sed.txt` dentro de la carpeta lorem-copy.\n",
    "\n",
    "echo 'Homo homini lupus.' >> sed.txt"
   ]
  },
  {
   "cell_type": "markdown",
   "id": "11677cb8",
   "metadata": {},
   "source": [
    "* Visualiza las últimas 3 líneas del archivo `sed.txt` dentro de la carpeta lorem-copy. Deberías ver ahora `Homo homini lupus.`. \n",
    "\n",
    "tail -3 sed.txt"
   ]
  },
  {
   "cell_type": "markdown",
   "id": "ee7fc053",
   "metadata": {},
   "source": [
    "* Sustituye todas las apariciones de `et` por `ET` del archivo `at.txt` dentro de la carpeta lorem-copy. Deberás usar `sed`. \n",
    "\n",
    "sed 's/et/ET/g' \"at.txt\""
   ]
  },
  {
   "cell_type": "markdown",
   "id": "36be4f5a",
   "metadata": {},
   "source": [
    "* Encuentra al usuario activo en el sistema.\n",
    "\n",
    "who"
   ]
  },
  {
   "cell_type": "markdown",
   "id": "e1a7bc4d",
   "metadata": {},
   "source": [
    "* Encuentra dónde estás en tu sistema de ficheros.\n",
    "\n",
    "pwd"
   ]
  },
  {
   "cell_type": "markdown",
   "id": "52e3e199",
   "metadata": {},
   "source": [
    "* Lista los archivos que terminan por `.txt` en la carpeta lorem.\n",
    "\n",
    "cd lorem\n",
    "ls ../*txt"
   ]
  },
  {
   "cell_type": "markdown",
   "id": "9bd3fa3a",
   "metadata": {},
   "source": [
    "* Cuenta el número de líneas que tiene el archivo `sed.txt` dentro de la carpeta lorem. \n",
    "\n",
    "cd lorem\n",
    "wc -l sed.txt"
   ]
  },
  {
   "cell_type": "markdown",
   "id": "16c841e5",
   "metadata": {},
   "source": [
    "* Cuenta el número de **archivos** que empiezan por `lorem` que están en este directorio y en directorios internos.\n",
    "\n",
    "find . -name \\lorem* -type f | wc -l"
   ]
  },
  {
   "cell_type": "markdown",
   "id": "40d2cedc",
   "metadata": {},
   "source": [
    "* Encuentra todas las apariciones de `et` en `at.txt` dentro de la carpeta lorem.\n",
    "\n",
    "cd lorem\n",
    "grep -R -c 'et' at.txt"
   ]
  },
  {
   "cell_type": "markdown",
   "id": "718e7ace",
   "metadata": {},
   "source": [
    "* Cuenta el número de apariciones del string `et` en `at.txt` dentro de la carpeta lorem.\n",
    "\n",
    "cd lorem\n",
    "grep -o -i et at.txt | wc -1"
   ]
  },
  {
   "cell_type": "markdown",
   "id": "99285f02",
   "metadata": {},
   "source": [
    "*  Cuenta el número de apariciones del string `et` en todos los archivos del directorio lorem-copy.\n",
    "\n",
    "cd lorem-copy\n",
    "grep -R -c 'et'"
   ]
  }
 ],
 "metadata": {
  "kernelspec": {
   "display_name": "Python 3 (ipykernel)",
   "language": "python",
   "name": "python3"
  },
  "language_info": {
   "codemirror_mode": {
    "name": "ipython",
    "version": 3
   },
   "file_extension": ".py",
   "mimetype": "text/x-python",
   "name": "python",
   "nbconvert_exporter": "python",
   "pygments_lexer": "ipython3",
   "version": "3.9.7"
  }
 },
 "nbformat": 4,
 "nbformat_minor": 5
}
