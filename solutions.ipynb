{
 "cells": [
  {
   "cell_type": "markdown",
   "id": "22509225",
   "metadata": {},
   "source": [
    "* Imprime en consola `Hello World`."
   ]
  },
  {
   "cell_type": "markdown",
   "id": "b6a65994",
   "metadata": {},
   "source": [
    "echo \"Hello World\""
   ]
  },
  {
   "cell_type": "markdown",
   "id": "daf1958a",
   "metadata": {},
   "source": [
    "* Crea un directorio nuevo llamado `new_dir`."
   ]
  },
  {
   "cell_type": "markdown",
   "id": "dec64174",
   "metadata": {},
   "source": [
    " mkdir new_dir"
   ]
  },
  {
   "cell_type": "markdown",
   "id": "757fc1e4",
   "metadata": {},
   "source": [
    "* Elimina ese directorio."
   ]
  },
  {
   "cell_type": "markdown",
   "id": "cf157ca2",
   "metadata": {},
   "source": [
    "rm new_dir"
   ]
  },
  {
   "cell_type": "markdown",
   "id": "c81a0a29",
   "metadata": {},
   "source": [
    "* Copia el archivo `sed.txt` dentro de la carpeta lorem a la carpeta lorem-copy. TIP: Puede ser necesario crear la carpeta lorem-copy primero. "
   ]
  },
  {
   "cell_type": "markdown",
   "id": "b9474096",
   "metadata": {},
   "source": [
    "mkdir lorem-copy\n",
    "cp .\\lorem\\sed.txt lorem-copy"
   ]
  },
  {
   "cell_type": "markdown",
   "id": "12188396",
   "metadata": {},
   "source": [
    "* Copia los otros dos archivos de la carpeta lorem a la carpeta lorem-copy en una sola línea. "
   ]
  },
  {
   "cell_type": "markdown",
   "id": "6786c200",
   "metadata": {},
   "source": [
    "cp .\\lorem\\* .\\lorem-copy\\"
   ]
  },
  {
   "cell_type": "markdown",
   "id": "f69e8031",
   "metadata": {},
   "source": [
    "* Muestra el contenido del archivo `sed.txt` dentro de la carpeta lorem."
   ]
  },
  {
   "cell_type": "markdown",
   "id": "0076e32a",
   "metadata": {},
   "source": [
    "vim .\\lorem\\sed.txt"
   ]
  },
  {
   "cell_type": "markdown",
   "id": "b3dd89e8",
   "metadata": {},
   "source": [
    "* Muestra el contenido de los archivos `at.txt` y `lorem.txt` dentro de la carpeta lorem."
   ]
  },
  {
   "cell_type": "markdown",
   "id": "34c68895",
   "metadata": {},
   "source": [
    "vim .\\lorem\\at.txt .\\lorem\\lorem.txt\n",
    ":n "
   ]
  },
  {
   "cell_type": "markdown",
   "id": "279062b8",
   "metadata": {},
   "source": [
    "* Visualiza las primeras 3 líneas del archivo `sed.txt` dentro de la carpeta lorem-copy"
   ]
  },
  {
   "cell_type": "markdown",
   "id": "68567f81",
   "metadata": {},
   "source": [
    "head -n 3 .\\lorem-copy\\sed.txt"
   ]
  },
  {
   "cell_type": "markdown",
   "id": "46c5a2c6",
   "metadata": {},
   "source": [
    "* Visualiza las ultimas 3 líneas del archivo `sed.txt` dentro de la carpeta lorem-copy "
   ]
  },
  {
   "cell_type": "markdown",
   "id": "de748642",
   "metadata": {},
   "source": [
    "tail -n 3 .\\lorem-copy\\sed.txt"
   ]
  },
  {
   "cell_type": "markdown",
   "id": "d48b3ebb",
   "metadata": {},
   "source": [
    "* Añade `Homo homini lupus.` al final de archivo `sed.txt` dentro de la carpeta lorem-copy."
   ]
  },
  {
   "cell_type": "markdown",
   "id": "1e4f04de",
   "metadata": {},
   "source": [
    "echo \"Homo homini lupus.\" >> .\\lorem-copy\\sed.txt"
   ]
  },
  {
   "cell_type": "markdown",
   "id": "e5cbef26",
   "metadata": {},
   "source": [
    "* Visualiza las últimas 3 líneas del archivo `sed.txt` dentro de la carpeta lorem-copy. Deberías ver ahora `Homo homini lupus.`."
   ]
  },
  {
   "cell_type": "markdown",
   "id": "4c92e0ba",
   "metadata": {},
   "source": [
    "cat .\\lorem-copy\\sed.txt"
   ]
  },
  {
   "cell_type": "markdown",
   "id": "06a2897c",
   "metadata": {},
   "source": [
    "* Sustituye todas las apariciones de `et` por `ET` del archivo `at.txt` dentro de la carpeta lorem-copy. Deberás usar `sed`."
   ]
  },
  {
   "cell_type": "markdown",
   "id": "cdcc8b64",
   "metadata": {},
   "source": [
    "sed s/et/ET/g .\\lorem-copy\\sed.txt"
   ]
  },
  {
   "cell_type": "markdown",
   "id": "d1706e6b",
   "metadata": {},
   "source": [
    "* Encuentra al usuario activo en el sistema."
   ]
  },
  {
   "cell_type": "markdown",
   "id": "e83eb393",
   "metadata": {},
   "source": [
    "whoami"
   ]
  },
  {
   "cell_type": "markdown",
   "id": "d2f9fc8a",
   "metadata": {},
   "source": [
    "* Encuentra dónde estás en tu sistema de ficheros."
   ]
  },
  {
   "cell_type": "markdown",
   "id": "2e6bc1ff",
   "metadata": {},
   "source": [
    "pwd"
   ]
  },
  {
   "cell_type": "markdown",
   "id": "8dad7e88",
   "metadata": {},
   "source": [
    "* Lista los archivos que terminan por `.txt` en la carpeta lorem."
   ]
  },
  {
   "cell_type": "markdown",
   "id": "602be86b",
   "metadata": {},
   "source": [
    "ls .\\lorem\\*.txt"
   ]
  },
  {
   "cell_type": "markdown",
   "id": "2c0d8d55",
   "metadata": {},
   "source": [
    "* Cuenta el número de líneas que tiene el archivo `sed.txt` dentro de la carpeta lorem. "
   ]
  },
  {
   "cell_type": "markdown",
   "id": "252ed3bd",
   "metadata": {},
   "source": [
    "wc -l .\\lorem\\sed.txt"
   ]
  },
  {
   "cell_type": "markdown",
   "id": "683b08c5",
   "metadata": {},
   "source": [
    "* Cuenta el número de **archivos** que empiezan por `lorem` que están en este directorio y en directorios internos."
   ]
  },
  {
   "cell_type": "markdown",
   "id": "80a5cc9a",
   "metadata": {},
   "source": [
    "ls -d lorem* | wc -l"
   ]
  },
  {
   "cell_type": "markdown",
   "id": "ff8c6313",
   "metadata": {},
   "source": [
    "* Encuentra todas las apariciones de `et` en `at.txt` dentro de la carpeta lorem."
   ]
  },
  {
   "cell_type": "markdown",
   "id": "c3cc2db3",
   "metadata": {},
   "source": [
    "grep -c et .\\lorem\\at.txt"
   ]
  },
  {
   "cell_type": "markdown",
   "id": "9ccd131e",
   "metadata": {},
   "source": [
    "*  Cuenta el número de apariciones del string `et` en todos los archivos del directorio lorem-copy. "
   ]
  },
  {
   "cell_type": "markdown",
   "id": "69ee4793",
   "metadata": {},
   "source": [
    "grep -c et -R .\\lorem-copy\\"
   ]
  },
  {
   "cell_type": "markdown",
   "id": "d51ffdd8",
   "metadata": {},
   "source": [
    "* Almacena en una variable `name` tu nombre."
   ]
  },
  {
   "cell_type": "markdown",
   "id": "a80defc4",
   "metadata": {},
   "source": [
    "$name = 'Antonio'"
   ]
  },
  {
   "cell_type": "markdown",
   "id": "41484a21",
   "metadata": {},
   "source": [
    "* Imprime esa variable."
   ]
  },
  {
   "cell_type": "markdown",
   "id": "b9a49e92",
   "metadata": {},
   "source": [
    "$name"
   ]
  },
  {
   "cell_type": "markdown",
   "id": "085c52cb",
   "metadata": {},
   "source": [
    "* Crea un directorio nuevo que se llame como el contenido de la variable `name`."
   ]
  },
  {
   "cell_type": "markdown",
   "id": "7ffd2e35",
   "metadata": {},
   "source": [
    "mkdir $name"
   ]
  },
  {
   "cell_type": "markdown",
   "id": "7589b113",
   "metadata": {},
   "source": [
    "* Elimina ese directorio."
   ]
  },
  {
   "cell_type": "markdown",
   "id": "05323e24",
   "metadata": {},
   "source": [
    "rm $name"
   ]
  },
  {
   "cell_type": "markdown",
   "id": "bdfa0475",
   "metadata": {},
   "source": [
    "* Muestra los procesos de forma jerárquica que se están ejecutando en tu ordenador:\n",
    "    1. Usando el comando top o htop\n",
    "    2. Usando el comando ps con argumentos"
   ]
  },
  {
   "cell_type": "markdown",
   "id": "2171cc28",
   "metadata": {},
   "source": [
    " ps | sort PID"
   ]
  },
  {
   "cell_type": "markdown",
   "id": "012a3efb",
   "metadata": {},
   "source": [
    "* Muestra información sobre tu procesador por pantalla"
   ]
  },
  {
   "cell_type": "markdown",
   "id": "56eab368",
   "metadata": {},
   "source": [
    "wmic cpu get caption"
   ]
  },
  {
   "cell_type": "markdown",
   "id": "d188d33c",
   "metadata": {},
   "source": [
    "* Crea 3 alias y haz que estén disponibles cada vez que inicias sesión"
   ]
  },
  {
   "cell_type": "markdown",
   "id": "586be2aa",
   "metadata": {},
   "source": [
    "Get-Variable Profile\n",
    "cd \\Users\\eloyl\\Documents\\WindowsPowerShell\\Microsoft.PowerShell_profile.ps1\n",
    "mkdir PSConfiguration\n",
    "cd PSConfiguration \n",
    "touch Microsoft.PowerShell_Profile.PS1\n",
    "\n",
    "ya dentro del archivo\n",
    "\n",
    "Set-Alias Goto Set-Location"
   ]
  },
  {
   "cell_type": "markdown",
   "id": "de1a28f9",
   "metadata": {},
   "source": [
    "* Comprime las carpetas lorem y lorem-copy en un archivo llamado lorem-compressed.tar.gz"
   ]
  },
  {
   "cell_type": "markdown",
   "id": "c9a8154e",
   "metadata": {},
   "source": [
    "tar czf lorem-compressed.tar.gz .\\lorem\\ .\\lorem-copy"
   ]
  },
  {
   "cell_type": "markdown",
   "id": "5c4b7b37",
   "metadata": {},
   "source": [
    "* Descomprime el archivo lorem-compressed.tar.gz en la carpeta lorem-uncompressed"
   ]
  },
  {
   "cell_type": "markdown",
   "id": "9287de2b",
   "metadata": {},
   "source": [
    "mkdir lorem-uncompressed\n",
    "tar -xvf .\\lorem-compressed.tar.gz --directory .\\lorem-uncompressed"
   ]
  },
  {
   "cell_type": "markdown",
   "id": "f002589e",
   "metadata": {},
   "source": [
    "* Crea un script bash para imprimir los numeros de 1 a 100."
   ]
  },
  {
   "cell_type": "markdown",
   "id": "7b7e1153",
   "metadata": {},
   "source": [
    "for i in {0..100..1}       \n",
    "do\n",
    "echo $i\n",
    "done"
   ]
  }
 ],
 "metadata": {
  "kernelspec": {
   "display_name": "Python 3 (ipykernel)",
   "language": "python",
   "name": "python3"
  },
  "language_info": {
   "codemirror_mode": {
    "name": "ipython",
    "version": 3
   },
   "file_extension": ".py",
   "mimetype": "text/x-python",
   "name": "python",
   "nbconvert_exporter": "python",
   "pygments_lexer": "ipython3",
   "version": "3.8.13"
  }
 },
 "nbformat": 4,
 "nbformat_minor": 5
}
