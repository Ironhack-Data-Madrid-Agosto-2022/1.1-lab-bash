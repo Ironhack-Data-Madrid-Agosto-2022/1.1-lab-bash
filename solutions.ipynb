{
 "cells": [
  {
   "cell_type": "markdown",
   "id": "ed009169",
   "metadata": {},
   "source": [
    "# Ejercicios\n",
    "Imprime en consola Hello World.\n",
    "\n",
    "Crea un directorio nuevo llamado new_dir.\n",
    "\n",
    "Elimina ese directorio.\n",
    "\n",
    "Copia el archivo sed.txt dentro de la carpeta lorem a la carpeta lorem-copy. TIP: Puede ser necesario crear la carpeta lorem-copy primero.\n",
    "\n",
    "Copia los otros dos archivos de la carpeta lorem a la carpeta lorem-copy en una sola línea.\n",
    "\n",
    "Muestra el contenido del archivo sed.txt dentro de la carpeta lorem.\n",
    "\n",
    "Muestra el contenido de los archivos at.txt y lorem.txt dentro de la carpeta lorem.\n",
    "\n",
    "Visualiza las primeras 3 líneas del archivo sed.txt dentro de la carpeta lorem-copy\n",
    "\n",
    "Visualiza las ultimas 3 líneas del archivo sed.txt dentro de la carpeta lorem-copy\n",
    "\n",
    "Añade Homo homini lupus. al final de archivo sed.txt dentro de la carpeta lorem-copy.\n",
    "\n",
    "Visualiza las últimas 3 líneas del archivo sed.txt dentro de la carpeta lorem-copy. Deberías ver ahora Homo homini lupus..\n",
    "\n",
    "Sustituye todas las apariciones de et por ET del archivo at.txt dentro de la carpeta lorem-copy. Deberás usar sed.\n",
    "\n",
    "Encuentra al usuario activo en el sistema.\n",
    "\n",
    "Encuentra dónde estás en tu sistema de ficheros.\n",
    "\n",
    "Lista los archivos que terminan por .txt en la carpeta lorem.\n",
    "\n",
    "Cuenta el número de líneas que tiene el archivo sed.txt dentro de la carpeta lorem.\n",
    "\n",
    "Cuenta el número de archivos que empiezan por lorem que están en este directorio y en directorios internos.\n",
    "\n",
    "Encuentra todas las apariciones de et en at.txt dentro de la carpeta lorem.\n",
    "\n",
    "Cuenta el número de apariciones del string et en at.txt dentro de la carpeta lorem.\n",
    "\n",
    "Cuenta el número de apariciones del string et en todos los archivos del directorio lorem-copy."
   ]
  },
  {
   "cell_type": "markdown",
   "id": "0d5ad60d",
   "metadata": {},
   "source": [
    "*Imprime en consola Hello World*"
   ]
  },
  {
   "cell_type": "markdown",
   "id": "a21f9abb",
   "metadata": {},
   "source": [
    "Echo Hello Word"
   ]
  },
  {
   "cell_type": "markdown",
   "id": "bf33ce0f",
   "metadata": {},
   "source": [
    "*Crea un directorio nuevo llamado new_dir*"
   ]
  },
  {
   "cell_type": "markdown",
   "id": "9eaf2ce3",
   "metadata": {},
   "source": [
    "mkdir new_dir"
   ]
  },
  {
   "cell_type": "markdown",
   "id": "8989bbbe",
   "metadata": {},
   "source": [
    "*Elimina ese directorio*"
   ]
  },
  {
   "cell_type": "markdown",
   "id": "ce634bb3",
   "metadata": {},
   "source": [
    "rm -r new_dir"
   ]
  },
  {
   "cell_type": "markdown",
   "id": "900b3d92",
   "metadata": {},
   "source": [
    "*Copia el archivo sed.txt dentro de la carpeta lorem a la carpeta lorem-copy. TIP: Puede ser necesario crear la carpeta lorem-copy primero*"
   ]
  },
  {
   "cell_type": "markdown",
   "id": "a42b2325",
   "metadata": {},
   "source": [
    "cp -r lorem/lorem-copy\n",
    "\n",
    "cp sed.txt../lorem-copy"
   ]
  },
  {
   "cell_type": "markdown",
   "id": "d7bad626",
   "metadata": {},
   "source": [
    "*Copia los otros dos archivos de la carpeta lorem a la carpeta lorem-copy en una sola línea*"
   ]
  },
  {
   "cell_type": "markdown",
   "id": "e8e9651f",
   "metadata": {},
   "source": [
    "cp lorem.txt ../lorem-copy and cp at.txt ../lorem-copy"
   ]
  },
  {
   "cell_type": "markdown",
   "id": "ee33c1dd",
   "metadata": {},
   "source": [
    "Muestra el contenido del archivo sed.txt dentro de la carpeta lorem"
   ]
  },
  {
   "cell_type": "markdown",
   "id": "1fafd7a8",
   "metadata": {},
   "source": [
    "cat sed.txt"
   ]
  },
  {
   "cell_type": "markdown",
   "id": "b6fc08ce",
   "metadata": {},
   "source": [
    "*Muestra el contenido de los archivos at.txt y lorem.txt dentro de la carpeta lorem*"
   ]
  },
  {
   "cell_type": "markdown",
   "id": "b95c65e1",
   "metadata": {},
   "source": [
    "cat at.txt and cat lorem.txt"
   ]
  },
  {
   "cell_type": "markdown",
   "id": "edd6cf28",
   "metadata": {},
   "source": [
    "*Visualiza las primeras 3 líneas del archivo sed.txt dentro de la carpeta lorem-copy*"
   ]
  },
  {
   "cell_type": "markdown",
   "id": "a8a7d3b5",
   "metadata": {},
   "source": [
    "head -3 sed.txt"
   ]
  },
  {
   "cell_type": "markdown",
   "id": "8c62be04",
   "metadata": {},
   "source": [
    "Visualiza las ultimas 3 líneas del archivo sed.txt dentro de la carpeta lorem-copy"
   ]
  },
  {
   "cell_type": "markdown",
   "id": "5701f71a",
   "metadata": {},
   "source": [
    "tail -3 sed.txt"
   ]
  },
  {
   "cell_type": "markdown",
   "id": "cd86afc6",
   "metadata": {},
   "source": [
    "Añade Homo homini lupus. al final de archivo sed.txt dentro de la carpeta lorem-copy."
   ]
  },
  {
   "cell_type": "markdown",
   "id": "5b124b67",
   "metadata": {},
   "source": [
    "echo \"Homo homini lupus\" >> sed.txt"
   ]
  },
  {
   "cell_type": "markdown",
   "id": "8cac2352",
   "metadata": {},
   "source": [
    "*Visualiza las últimas 3 líneas del archivo sed.txt dentro de la carpeta lorem-copy. Deberías ver ahora Homo homini lupus..*"
   ]
  },
  {
   "cell_type": "markdown",
   "id": "1e3e4e22",
   "metadata": {},
   "source": [
    "cat sed.txt"
   ]
  },
  {
   "cell_type": "markdown",
   "id": "0966b33c",
   "metadata": {},
   "source": [
    "Sustituye todas las apariciones de et por ET del archivo at.txt dentro de la carpeta lorem-copy. Deberás usar sed."
   ]
  },
  {
   "cell_type": "markdown",
   "id": "3a0f9fe3",
   "metadata": {},
   "source": [
    "sed 's/et/ET/' <at.txt"
   ]
  },
  {
   "cell_type": "markdown",
   "id": "f7fa674a",
   "metadata": {},
   "source": [
    "Encuentra al usuario activo en el sistema."
   ]
  },
  {
   "cell_type": "markdown",
   "id": "95e2e871",
   "metadata": {},
   "source": [
    "users"
   ]
  },
  {
   "cell_type": "markdown",
   "id": "d4810819",
   "metadata": {},
   "source": [
    "Encuentra dónde estás en tu sistema de ficheros."
   ]
  },
  {
   "cell_type": "markdown",
   "id": "8c81a773",
   "metadata": {},
   "source": [
    "Ls"
   ]
  },
  {
   "cell_type": "markdown",
   "id": "9ca975a6",
   "metadata": {},
   "source": [
    "*Lista los archivos que terminan por .txt en la carpeta lorem.*"
   ]
  },
  {
   "cell_type": "markdown",
   "id": "dd50b04a",
   "metadata": {},
   "source": [
    "ls *.txt"
   ]
  },
  {
   "cell_type": "markdown",
   "id": "8704b49e",
   "metadata": {},
   "source": [
    "*Cuenta el número de líneas que tiene el archivo sed.txt dentro de la carpeta lorem.*"
   ]
  },
  {
   "cell_type": "markdown",
   "id": "b666f7ed",
   "metadata": {},
   "source": [
    "wc sed.txt"
   ]
  },
  {
   "cell_type": "markdown",
   "id": "173a0eea",
   "metadata": {},
   "source": [
    "Cuenta el número de archivos que empiezan por lorem que están en este directorio y en directorios internos."
   ]
  },
  {
   "cell_type": "markdown",
   "id": "ad83f558",
   "metadata": {},
   "source": [
    "find .name \"lorem*\"|wc -l"
   ]
  },
  {
   "cell_type": "markdown",
   "id": "ddc05707",
   "metadata": {},
   "source": [
    "Encuentra todas las apariciones de et en at.txt dentro de la carpeta lorem."
   ]
  },
  {
   "cell_type": "code",
   "execution_count": null,
   "id": "401c4441",
   "metadata": {},
   "outputs": [],
   "source": [
    "grep -o -i -w \"et\" at.txt"
   ]
  },
  {
   "cell_type": "markdown",
   "id": "0000d224",
   "metadata": {},
   "source": [
    "Cuenta el número de apariciones del string et en at.txt dentro de la carpeta lorem."
   ]
  },
  {
   "cell_type": "code",
   "execution_count": null,
   "id": "43b30eef",
   "metadata": {},
   "outputs": [],
   "source": [
    "grep -o -i -w \"et\" at.txt| wc -l"
   ]
  },
  {
   "cell_type": "markdown",
   "id": "b9b73305",
   "metadata": {},
   "source": [
    "Cuenta el número de apariciones del string et en todos los archivos del directorio lorem-copy."
   ]
  },
  {
   "cell_type": "code",
   "execution_count": null,
   "id": "8767c02a",
   "metadata": {},
   "outputs": [],
   "source": [
    "cd..\n",
    "grep -o -i -w \"et\" lorem-copy| wc -l"
   ]
  },
  {
   "cell_type": "code",
   "execution_count": null,
   "id": "f92a6521",
   "metadata": {},
   "outputs": [],
   "source": []
  },
  {
   "cell_type": "code",
   "execution_count": null,
   "id": "5edb84a5",
   "metadata": {},
   "outputs": [],
   "source": []
  },
  {
   "cell_type": "code",
   "execution_count": null,
   "id": "415e2c08",
   "metadata": {},
   "outputs": [],
   "source": []
  },
  {
   "cell_type": "code",
   "execution_count": null,
   "id": "273936c5",
   "metadata": {},
   "outputs": [],
   "source": []
  }
 ],
 "metadata": {
  "kernelspec": {
   "display_name": "Python 3 (ipykernel)",
   "language": "python",
   "name": "python3"
  },
  "language_info": {
   "codemirror_mode": {
    "name": "ipython",
    "version": 3
   },
   "file_extension": ".py",
   "mimetype": "text/x-python",
   "name": "python",
   "nbconvert_exporter": "python",
   "pygments_lexer": "ipython3",
   "version": "3.9.12"
  }
 },
 "nbformat": 4,
 "nbformat_minor": 5
}
